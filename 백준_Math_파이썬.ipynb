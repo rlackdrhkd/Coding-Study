{
  "nbformat": 4,
  "nbformat_minor": 0,
  "metadata": {
    "colab": {
      "name": "백준 Math - 파이썬.ipynb",
      "provenance": [],
      "collapsed_sections": [],
      "authorship_tag": "ABX9TyOaXuznhpHNt+sr+fGMQZC5",
      "include_colab_link": true
    },
    "kernelspec": {
      "name": "python3",
      "display_name": "Python 3"
    },
    "language_info": {
      "name": "python"
    }
  },
  "cells": [
    {
      "cell_type": "markdown",
      "metadata": {
        "id": "view-in-github",
        "colab_type": "text"
      },
      "source": [
        "<a href=\"https://colab.research.google.com/github/rlackdrhkd/Coding-Study/blob/main/%EB%B0%B1%EC%A4%80_Math_%ED%8C%8C%EC%9D%B4%EC%8D%AC.ipynb\" target=\"_parent\"><img src=\"https://colab.research.google.com/assets/colab-badge.svg\" alt=\"Open In Colab\"/></a>"
      ]
    },
    {
      "cell_type": "code",
      "source": [
        "#1000번\n",
        "A, B = input().split()\t# 입력되는 문자를 input()함수로 입력받고 split()함수로 나누어 A,B 변수에 저장\n",
        "\n",
        "print(int(A)+int(B))"
      ],
      "metadata": {
        "colab": {
          "base_uri": "https://localhost:8080/"
        },
        "id": "GR0lRMT6Pfrz",
        "outputId": "76f5d00d-bb11-467a-ebb9-e201cdd3be43"
      },
      "execution_count": 10,
      "outputs": [
        {
          "output_type": "stream",
          "name": "stdout",
          "text": [
            "1 2\n",
            "3\n"
          ]
        }
      ]
    },
    {
      "cell_type": "code",
      "source": [
        "#1001번\n",
        "A, B = input().split()\t# 입력되는 문자를 input()함수로 입력받고 split()함수로 나누어 A,B 변수에 저장\n",
        "\n",
        "print(int(A)-int(B))"
      ],
      "metadata": {
        "colab": {
          "base_uri": "https://localhost:8080/"
        },
        "id": "qvQFJ6aVP6Q0",
        "outputId": "fcdee584-e9b2-40b1-cabe-add4bf799df3"
      },
      "execution_count": 11,
      "outputs": [
        {
          "output_type": "stream",
          "name": "stdout",
          "text": [
            "3 12\n",
            "-9\n"
          ]
        }
      ]
    },
    {
      "cell_type": "code",
      "source": [
        "#10008번\n",
        "A, B = input().split()\t# 입력되는 문자를 input()함수로 입력받고 split()함수로 나누어 A,B 변수에 저장\n",
        "\n",
        "print(int(A)/int(B))"
      ],
      "metadata": {
        "colab": {
          "base_uri": "https://localhost:8080/"
        },
        "id": "Ip3Ey1NWQOE6",
        "outputId": "f778dc8f-6842-436f-f44d-2e5c1ed86cf6"
      },
      "execution_count": 16,
      "outputs": [
        {
          "output_type": "stream",
          "name": "stdout",
          "text": [
            "10 3\n",
            "3.3333333333333335\n",
            "30\n"
          ]
        }
      ]
    },
    {
      "cell_type": "code",
      "source": [
        "#10998번\n",
        "A, B = input().split()\t# 입력되는 문자를 input()함수로 입력받고 split()함수로 나누어 A,B 변수에 저장\n",
        "\n",
        "print(int(A)*int(B))"
      ],
      "metadata": {
        "id": "aPG_DkFxQwLX"
      },
      "execution_count": null,
      "outputs": []
    },
    {
      "cell_type": "code",
      "source": [
        "#10869번\n",
        "A, B = input().split()\t# 입력되는 문자를 input()함수로 입력받고 split()함수로 나누어 A,B 변수에 저장\n",
        "\n",
        "print(int(A)+int(B))\n",
        "print(int(A)-int(B))\n",
        "print(int(A)*int(B))\n",
        "print(int(A)//int(B))\n",
        "print(int(A)%int(B))"
      ],
      "metadata": {
        "colab": {
          "base_uri": "https://localhost:8080/"
        },
        "id": "IHptkTzLQ9gP",
        "outputId": "04e45552-b186-4800-a453-8077d94dbe6d"
      },
      "execution_count": 18,
      "outputs": [
        {
          "output_type": "stream",
          "name": "stdout",
          "text": [
            "7 3\n",
            "10\n",
            "4\n",
            "21\n",
            "2.3333333333333335\n",
            "1\n"
          ]
        }
      ]
    },
    {
      "cell_type": "code",
      "source": [
        "#10926번\n",
        "A =input()\n",
        "\n",
        "print(A + \"??!\")"
      ],
      "metadata": {
        "colab": {
          "base_uri": "https://localhost:8080/"
        },
        "id": "QnKBxcIBSR0F",
        "outputId": "62b0e98c-ae6c-4ba5-8682-eb253c34a6f2"
      },
      "execution_count": 20,
      "outputs": [
        {
          "output_type": "stream",
          "name": "stdout",
          "text": [
            "3\n",
            "3??!\n"
          ]
        }
      ]
    },
    {
      "cell_type": "code",
      "source": [
        "#18108번\n",
        "year = int(input())\n",
        "print(year - 543)"
      ],
      "metadata": {
        "id": "lpIgwjmKS5qV"
      },
      "execution_count": null,
      "outputs": []
    },
    {
      "cell_type": "code",
      "source": [
        "2541-1998"
      ],
      "metadata": {
        "colab": {
          "base_uri": "https://localhost:8080/"
        },
        "id": "4oCKMFTLTDXz",
        "outputId": "be35ee82-956e-42fc-be3a-8225bf4940ac"
      },
      "execution_count": 21,
      "outputs": [
        {
          "output_type": "execute_result",
          "data": {
            "text/plain": [
              "543"
            ]
          },
          "metadata": {},
          "execution_count": 21
        }
      ]
    }
  ]
}