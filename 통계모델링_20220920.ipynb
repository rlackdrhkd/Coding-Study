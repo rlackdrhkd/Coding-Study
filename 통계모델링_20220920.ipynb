{
  "nbformat": 4,
  "nbformat_minor": 0,
  "metadata": {
    "colab": {
      "provenance": [],
      "authorship_tag": "ABX9TyNm1JExbmMQ6xidk2pdFjwG",
      "include_colab_link": true
    },
    "kernelspec": {
      "name": "python3",
      "display_name": "Python 3"
    },
    "language_info": {
      "name": "python"
    }
  },
  "cells": [
    {
      "cell_type": "markdown",
      "metadata": {
        "id": "view-in-github",
        "colab_type": "text"
      },
      "source": [
        "<a href=\"https://colab.research.google.com/github/rlackdrhkd/Coding-Study/blob/main/%ED%86%B5%EA%B3%84%EB%AA%A8%EB%8D%B8%EB%A7%81_20220920.ipynb\" target=\"_parent\"><img src=\"https://colab.research.google.com/assets/colab-badge.svg\" alt=\"Open In Colab\"/></a>"
      ]
    },
    {
      "cell_type": "code",
      "source": [
        "sklearn\n",
        "  model_selection (sklearn의 패키지)\n",
        "    train_test_split\n",
        "  metrics\n",
        "    accuracy_score"
      ],
      "metadata": {
        "colab": {
          "base_uri": "https://localhost:8080/",
          "height": 134
        },
        "id": "Gn9XtKZCNB8r",
        "outputId": "4f52b130-2a82-4180-8f79-730fec93ad1b"
      },
      "execution_count": 60,
      "outputs": [
        {
          "output_type": "error",
          "ename": "IndentationError",
          "evalue": "ignored",
          "traceback": [
            "\u001b[0;36m  File \u001b[0;32m\"<ipython-input-60-ad166ec342a9>\"\u001b[0;36m, line \u001b[0;32m2\u001b[0m\n\u001b[0;31m    model_selection (sklearn의 패키지)\u001b[0m\n\u001b[0m    ^\u001b[0m\n\u001b[0;31mIndentationError\u001b[0m\u001b[0;31m:\u001b[0m unexpected indent\n"
          ]
        }
      ]
    },
    {
      "cell_type": "code",
      "source": [
        "#from sklearn.model_selection import train_test_split\n",
        "#from sklearn.metrics import accuracy_score\n",
        "import sklearn"
      ],
      "metadata": {
        "id": "1BeYr-YZNVMR"
      },
      "execution_count": 64,
      "outputs": []
    },
    {
      "cell_type": "code",
      "execution_count": 1,
      "metadata": {
        "id": "ATUcJTiVEW_d"
      },
      "outputs": [],
      "source": [
        "import numpy as np\n",
        "import matplotlib.pyplot as plt\n",
        "from sklearn.linear_model import LinearRegression\n",
        "from sklearn.linear_model import Ridge"
      ]
    },
    {
      "cell_type": "code",
      "source": [
        "%matplotlib inline\n",
        "n_samples = 30\n",
        "X = np.sort(np.random.rand(n_samples))\n",
        "Y = np.sin(2*np.pi*X) + np.random.rand(n_samples) * 0.1\n",
        "X = X.reshape(X.shape[0],1)\n",
        "print(X.shape, Y.shape) #(30,1), (30,)"
      ],
      "metadata": {
        "colab": {
          "base_uri": "https://localhost:8080/"
        },
        "id": "fYrj15fIE6jK",
        "outputId": "b3f4cc71-2049-4df4-a84f-9ec2ffe4ce53"
      },
      "execution_count": 3,
      "outputs": [
        {
          "output_type": "stream",
          "name": "stdout",
          "text": [
            "(30, 1) (30,)\n"
          ]
        }
      ]
    },
    {
      "cell_type": "code",
      "source": [
        "font_size = 16\n",
        "plt.figure(figsize=(10,5))\n",
        "plt.scatter(x=X,y=Y, c='blue', marker='o', label='sample') # Visualization to Blue Circle\n",
        "plt.xlabel('X-axis', fontsize=font_size) # font size and Name of X axis\n",
        "plt.ylabel('Y-axis', fontsize=font_size) # font size and Name of Y axis\n",
        "plt.xticks(fontsize=font_size) # Number size of X-axis\n",
        "plt.yticks(fontsize=font_size) # Number size of Y-axis\n",
        "plt.title('Plot of sample', fontsize=(font_size+2))\n",
        "plt.legend(fontsize=font_size)\n",
        "plt.show()"
      ],
      "metadata": {
        "colab": {
          "base_uri": "https://localhost:8080/",
          "height": 382
        },
        "id": "5jDU0nwFFg9W",
        "outputId": "ea64d365-ae28-47c2-a739-cedb25ec24d8"
      },
      "execution_count": 23,
      "outputs": [
        {
          "output_type": "execute_result",
          "data": {
            "text/plain": [
              "<matplotlib.legend.Legend at 0x7f648ef02910>"
            ]
          },
          "metadata": {},
          "execution_count": 23
        },
        {
          "output_type": "display_data",
          "data": {
            "text/plain": [
              "<Figure size 720x360 with 1 Axes>"
            ],
            "image/png": "[encoded data removed]"
          },
          "metadata": {
            "needs_background": "light"
          }
        }
      ]
    },
    {
      "cell_type": "code",
      "source": [
        "ordinary_regressor = LinearRegression().fit(X,Y) # Linear Regression Analysis\n",
        "pred_ordinary = ordinary_regressor.predict(X) #Prediction\n",
        "b1_ordinary = ordinary_regressor.coef_\n",
        "print('Coef of ordinary regressor: ', b1_ordinary)"
      ],
      "metadata": {
        "colab": {
          "base_uri": "https://localhost:8080/"
        },
        "id": "QK2HDWBMMXxd",
        "outputId": "68d07d79-6700-4478-b277-b38a76d18854"
      },
      "execution_count": 59,
      "outputs": [
        {
          "output_type": "stream",
          "name": "stdout",
          "text": [
            "Coef of ordinary regressor:  [-1.84317256]\n"
          ]
        }
      ]
    },
    {
      "cell_type": "code",
      "source": [
        "ridge_regressor = Ridge(alpha=0.25).fit(X,Y) # Ridge Regression Analysis\n",
        "pred_ridge = ridge_regressor.predict(X) #Prediction\n",
        "b1_ridge = ridge_regressor.coef_\n",
        "print(\"Coef of ridge regressor: \",b1_ridge)"
      ],
      "metadata": {
        "colab": {
          "base_uri": "https://localhost:8080/"
        },
        "id": "ruiWxGXeM7f4",
        "outputId": "7a8913db-2152-42ed-ec2a-6ce99d5c6f0c"
      },
      "execution_count": 66,
      "outputs": [
        {
          "output_type": "stream",
          "name": "stdout",
          "text": [
            "Coef of ridge regressor:  [-1.70360685]\n"
          ]
        }
      ]
    },
    {
      "cell_type": "code",
      "source": [
        "print(\"회귀계수가 줄어들었나요? 맞으면 True, 틀리면 False => \",\n",
        "      abs(b1_ordinary) > abs(b1_ridge))"
      ],
      "metadata": {
        "colab": {
          "base_uri": "https://localhost:8080/"
        },
        "id": "7gNjD9xaOd-Q",
        "outputId": "8e537199-c59e-4f12-b65e-3e527fc6c6a7"
      },
      "execution_count": 67,
      "outputs": [
        {
          "output_type": "stream",
          "name": "stdout",
          "text": [
            "회귀계수가 줄어들었나요? 맞으면 True, 틀리면 False =>  [ True]\n"
          ]
        }
      ]
    },
    {
      "cell_type": "code",
      "source": [
        "plt.figure(figsize=(10,5))\n",
        "plt.scatter(x=X,y=Y, c='blue', marker='o', label='sample')\n",
        "plt.plot(X, pred_ordinary, c='red', linestyle='--', label=\"pred(ordinary)\")\n",
        "plt.plot(X, pred_ridge, c='green', linestyle='-.', label=\"pred(ridge)\")\n",
        "plt.xlabel('X-axis', fontsize=font_size)\n",
        "plt.ylabel('Y-axis', fontsize=font_size)\n",
        "plt.xticks(fontsize=font_size)\n",
        "plt.yticks(fontsize=font_size)\n",
        "plt.legend(fontsize=font_size)\n",
        "plt.show"
      ],
      "metadata": {
        "colab": {
          "base_uri": "https://localhost:8080/",
          "height": 362
        },
        "id": "lrnRBAteRiv9",
        "outputId": "d94034c6-21b6-47a1-ba19-b3e15f585a53"
      },
      "execution_count": 68,
      "outputs": [
        {
          "output_type": "execute_result",
          "data": {
            "text/plain": [
              "<function matplotlib.pyplot.show(*args, **kw)>"
            ]
          },
          "metadata": {},
          "execution_count": 68
        },
        {
          "output_type": "display_data",
          "data": {
            "text/plain": [
              "<Figure size 720x360 with 1 Axes>"
            ],
            "image/png": "[encoded data removed]"
          },
          "metadata": {
            "needs_background": "light"
          }
        }
      ]
    },
    {
      "cell_type": "code",
      "source": [
        "var_pred_ordinary = np.var(pred_ordinary) # Variance of Prediction based ordinary Regression\n",
        "var_pred_ridge = np.var(pred_ridge) # Variance of Prediction based Ridge Regression\n",
        "print(\"분산이 줄어들었나요? 맞으면 True, 틀리면 False => \",\n",
        "      var_pred_ordinary > var_pred_ridge)"
      ],
      "metadata": {
        "colab": {
          "base_uri": "https://localhost:8080/"
        },
        "id": "Pw1LPSNQSmSa",
        "outputId": "a8a83c32-3b3a-4b47-be97-4ac762c1d6a9"
      },
      "execution_count": 70,
      "outputs": [
        {
          "output_type": "stream",
          "name": "stdout",
          "text": [
            "분산이 줄어들었나요? 맞으면 True, 틀리면 False =>  True\n"
          ]
        }
      ]
    },
    {
      "cell_type": "code",
      "source": [
        "a = []\n",
        "for x in range(1,101):\n",
        "  a.append(x)\n",
        "print(a)\n",
        "\n",
        "x = [v for v in range(1,101)]\n",
        "print(x)"
      ],
      "metadata": {
        "colab": {
          "base_uri": "https://localhost:8080/"
        },
        "id": "73ug9pCPGNvC",
        "outputId": "54e58680-8d66-48bb-a03f-6ee506532afc"
      },
      "execution_count": 17,
      "outputs": [
        {
          "output_type": "stream",
          "name": "stdout",
          "text": [
            "[1, 2, 3, 4, 5, 6, 7, 8, 9, 10, 11, 12, 13, 14, 15, 16, 17, 18, 19, 20, 21, 22, 23, 24, 25, 26, 27, 28, 29, 30, 31, 32, 33, 34, 35, 36, 37, 38, 39, 40, 41, 42, 43, 44, 45, 46, 47, 48, 49, 50, 51, 52, 53, 54, 55, 56, 57, 58, 59, 60, 61, 62, 63, 64, 65, 66, 67, 68, 69, 70, 71, 72, 73, 74, 75, 76, 77, 78, 79, 80, 81, 82, 83, 84, 85, 86, 87, 88, 89, 90, 91, 92, 93, 94, 95, 96, 97, 98, 99, 100]\n",
            "[1, 2, 3, 4, 5, 6, 7, 8, 9, 10, 11, 12, 13, 14, 15, 16, 17, 18, 19, 20, 21, 22, 23, 24, 25, 26, 27, 28, 29, 30, 31, 32, 33, 34, 35, 36, 37, 38, 39, 40, 41, 42, 43, 44, 45, 46, 47, 48, 49, 50, 51, 52, 53, 54, 55, 56, 57, 58, 59, 60, 61, 62, 63, 64, 65, 66, 67, 68, 69, 70, 71, 72, 73, 74, 75, 76, 77, 78, 79, 80, 81, 82, 83, 84, 85, 86, 87, 88, 89, 90, 91, 92, 93, 94, 95, 96, 97, 98, 99, 100]\n"
          ]
        }
      ]
    },
    {
      "cell_type": "code",
      "source": [
        "a = [10,3,4]\n",
        "b = []\n",
        "for idx,val in enumerate(a): #인덱스(index)와 원소를 동시에 접근\n",
        "  if val >= 4:\n",
        "    b.append(idx)\n",
        "print(b)"
      ],
      "metadata": {
        "colab": {
          "base_uri": "https://localhost:8080/"
        },
        "id": "LblMMIyJImrC",
        "outputId": "39669daa-7db7-442a-8091-430ad0562735"
      },
      "execution_count": 28,
      "outputs": [
        {
          "output_type": "stream",
          "name": "stdout",
          "text": [
            "[0, 2]\n"
          ]
        }
      ]
    },
    {
      "cell_type": "code",
      "source": [
        "a = [1,2,3]\n",
        "b = [4,5,6]\n",
        "for i in range(len(a)):\n",
        "  print(a[i]+b[i])"
      ],
      "metadata": {
        "colab": {
          "base_uri": "https://localhost:8080/"
        },
        "id": "0cHY-Y5AKsMl",
        "outputId": "25218652-0de2-4ef9-a7b8-683051027b96"
      },
      "execution_count": 37,
      "outputs": [
        {
          "output_type": "stream",
          "name": "stdout",
          "text": [
            "5\n",
            "7\n",
            "9\n"
          ]
        }
      ]
    },
    {
      "cell_type": "code",
      "source": [
        "a = [1,2,3]\n",
        "b = [4,5,6]\n",
        "for ai,bi in zip(a,b): #여러 개의 순회 가능한(iterable) 객체를 인자로 받고, 각 객체가 담고 있는 원소를 터플의 형태로 차례로 접근할 수 있는 반복자(iterator)를 반환\n",
        "  print(ai+bi)"
      ],
      "metadata": {
        "colab": {
          "base_uri": "https://localhost:8080/"
        },
        "id": "8szct6beJrcH",
        "outputId": "d5217249-4fa5-466a-bcc6-2ba47f76c6c5"
      },
      "execution_count": 36,
      "outputs": [
        {
          "output_type": "stream",
          "name": "stdout",
          "text": [
            "5\n",
            "7\n",
            "9\n"
          ]
        }
      ]
    },
    {
      "cell_type": "code",
      "source": [
        "a = [1,2,3]\n",
        "b = [4,5,6]\n",
        "for idx, abi in enumerate(zip(a,b)):\n",
        "  print(idx, abi[0],abi[1])"
      ],
      "metadata": {
        "colab": {
          "base_uri": "https://localhost:8080/"
        },
        "id": "EWdGZhgPK0bJ",
        "outputId": "177fbbfa-2f16-43ad-b70a-1fee2f2b348a"
      },
      "execution_count": 55,
      "outputs": [
        {
          "output_type": "stream",
          "name": "stdout",
          "text": [
            "0 1 4\n",
            "1 2 5\n",
            "2 3 6\n"
          ]
        }
      ]
    },
    {
      "cell_type": "code",
      "source": [
        "a = [1,2,3]\n",
        "b = [4,5,6]\n",
        "c = [7,8,9]\n",
        "for idx, abci in enumerate(zip(a,b,c)):\n",
        "  print(idx, abci)"
      ],
      "metadata": {
        "colab": {
          "base_uri": "https://localhost:8080/"
        },
        "id": "sfc5jdKpLmkj",
        "outputId": "f9c9aeb2-43c7-4067-b409-83c6d2a04922"
      },
      "execution_count": 58,
      "outputs": [
        {
          "output_type": "stream",
          "name": "stdout",
          "text": [
            "0 (1, 4, 7)\n",
            "1 (2, 5, 8)\n",
            "2 (3, 6, 9)\n"
          ]
        }
      ]
    }
  ]
}